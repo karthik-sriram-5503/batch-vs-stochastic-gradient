{
  "nbformat": 4,
  "nbformat_minor": 0,
  "metadata": {
    "colab": {
      "provenance": []
    },
    "kernelspec": {
      "name": "python3",
      "display_name": "Python 3"
    },
    "language_info": {
      "name": "python"
    }
  },
  "cells": [
    {
      "cell_type": "code",
      "execution_count": null,
      "metadata": {
        "id": "qZEOrM3FAPw5"
      },
      "outputs": [],
      "source": [
        "import pandas as pd\n",
        "import numpy as np\n",
        "from matplotlib import pyplot as plt\n",
        "%matplotlib inline"
      ]
    },
    {
      "cell_type": "code",
      "source": [
        "df = pd.read_csv(\"homeprices_banglore.csv\")\n",
        "df.sample(5)"
      ],
      "metadata": {
        "colab": {
          "base_uri": "https://localhost:8080/",
          "height": 206
        },
        "id": "InyLUMLDI88o",
        "outputId": "cb38261e-cea6-4176-a8b5-529370864a51"
      },
      "execution_count": null,
      "outputs": [
        {
          "output_type": "execute_result",
          "data": {
            "text/plain": [
              "    area  bedrooms  price\n",
              "8   1310         3   50.0\n",
              "16  1180         3   48.0\n",
              "7   3300         4  155.0\n",
              "19   800         1   32.0\n",
              "4   1200         2   51.0"
            ],
            "text/html": [
              "\n",
              "\n",
              "  <div id=\"df-4426027b-4408-44ce-ae1d-27ca6f3ed74a\">\n",
              "    <div class=\"colab-df-container\">\n",
              "      <div>\n",
              "<style scoped>\n",
              "    .dataframe tbody tr th:only-of-type {\n",
              "        vertical-align: middle;\n",
              "    }\n",
              "\n",
              "    .dataframe tbody tr th {\n",
              "        vertical-align: top;\n",
              "    }\n",
              "\n",
              "    .dataframe thead th {\n",
              "        text-align: right;\n",
              "    }\n",
              "</style>\n",
              "<table border=\"1\" class=\"dataframe\">\n",
              "  <thead>\n",
              "    <tr style=\"text-align: right;\">\n",
              "      <th></th>\n",
              "      <th>area</th>\n",
              "      <th>bedrooms</th>\n",
              "      <th>price</th>\n",
              "    </tr>\n",
              "  </thead>\n",
              "  <tbody>\n",
              "    <tr>\n",
              "      <th>8</th>\n",
              "      <td>1310</td>\n",
              "      <td>3</td>\n",
              "      <td>50.0</td>\n",
              "    </tr>\n",
              "    <tr>\n",
              "      <th>16</th>\n",
              "      <td>1180</td>\n",
              "      <td>3</td>\n",
              "      <td>48.0</td>\n",
              "    </tr>\n",
              "    <tr>\n",
              "      <th>7</th>\n",
              "      <td>3300</td>\n",
              "      <td>4</td>\n",
              "      <td>155.0</td>\n",
              "    </tr>\n",
              "    <tr>\n",
              "      <th>19</th>\n",
              "      <td>800</td>\n",
              "      <td>1</td>\n",
              "      <td>32.0</td>\n",
              "    </tr>\n",
              "    <tr>\n",
              "      <th>4</th>\n",
              "      <td>1200</td>\n",
              "      <td>2</td>\n",
              "      <td>51.0</td>\n",
              "    </tr>\n",
              "  </tbody>\n",
              "</table>\n",
              "</div>\n",
              "      <button class=\"colab-df-convert\" onclick=\"convertToInteractive('df-4426027b-4408-44ce-ae1d-27ca6f3ed74a')\"\n",
              "              title=\"Convert this dataframe to an interactive table.\"\n",
              "              style=\"display:none;\">\n",
              "\n",
              "  <svg xmlns=\"http://www.w3.org/2000/svg\" height=\"24px\"viewBox=\"0 0 24 24\"\n",
              "       width=\"24px\">\n",
              "    <path d=\"M0 0h24v24H0V0z\" fill=\"none\"/>\n",
              "    <path d=\"M18.56 5.44l.94 2.06.94-2.06 2.06-.94-2.06-.94-.94-2.06-.94 2.06-2.06.94zm-11 1L8.5 8.5l.94-2.06 2.06-.94-2.06-.94L8.5 2.5l-.94 2.06-2.06.94zm10 10l.94 2.06.94-2.06 2.06-.94-2.06-.94-.94-2.06-.94 2.06-2.06.94z\"/><path d=\"M17.41 7.96l-1.37-1.37c-.4-.4-.92-.59-1.43-.59-.52 0-1.04.2-1.43.59L10.3 9.45l-7.72 7.72c-.78.78-.78 2.05 0 2.83L4 21.41c.39.39.9.59 1.41.59.51 0 1.02-.2 1.41-.59l7.78-7.78 2.81-2.81c.8-.78.8-2.07 0-2.86zM5.41 20L4 18.59l7.72-7.72 1.47 1.35L5.41 20z\"/>\n",
              "  </svg>\n",
              "      </button>\n",
              "\n",
              "\n",
              "\n",
              "    <div id=\"df-3962a33f-6083-4507-9067-c469760ecfc0\">\n",
              "      <button class=\"colab-df-quickchart\" onclick=\"quickchart('df-3962a33f-6083-4507-9067-c469760ecfc0')\"\n",
              "              title=\"Suggest charts.\"\n",
              "              style=\"display:none;\">\n",
              "\n",
              "<svg xmlns=\"http://www.w3.org/2000/svg\" height=\"24px\"viewBox=\"0 0 24 24\"\n",
              "     width=\"24px\">\n",
              "    <g>\n",
              "        <path d=\"M19 3H5c-1.1 0-2 .9-2 2v14c0 1.1.9 2 2 2h14c1.1 0 2-.9 2-2V5c0-1.1-.9-2-2-2zM9 17H7v-7h2v7zm4 0h-2V7h2v10zm4 0h-2v-4h2v4z\"/>\n",
              "    </g>\n",
              "</svg>\n",
              "      </button>\n",
              "    </div>\n",
              "\n",
              "<style>\n",
              "  .colab-df-quickchart {\n",
              "    background-color: #E8F0FE;\n",
              "    border: none;\n",
              "    border-radius: 50%;\n",
              "    cursor: pointer;\n",
              "    display: none;\n",
              "    fill: #1967D2;\n",
              "    height: 32px;\n",
              "    padding: 0 0 0 0;\n",
              "    width: 32px;\n",
              "  }\n",
              "\n",
              "  .colab-df-quickchart:hover {\n",
              "    background-color: #E2EBFA;\n",
              "    box-shadow: 0px 1px 2px rgba(60, 64, 67, 0.3), 0px 1px 3px 1px rgba(60, 64, 67, 0.15);\n",
              "    fill: #174EA6;\n",
              "  }\n",
              "\n",
              "  [theme=dark] .colab-df-quickchart {\n",
              "    background-color: #3B4455;\n",
              "    fill: #D2E3FC;\n",
              "  }\n",
              "\n",
              "  [theme=dark] .colab-df-quickchart:hover {\n",
              "    background-color: #434B5C;\n",
              "    box-shadow: 0px 1px 3px 1px rgba(0, 0, 0, 0.15);\n",
              "    filter: drop-shadow(0px 1px 2px rgba(0, 0, 0, 0.3));\n",
              "    fill: #FFFFFF;\n",
              "  }\n",
              "</style>\n",
              "\n",
              "    <script>\n",
              "      async function quickchart(key) {\n",
              "        const containerElement = document.querySelector('#' + key);\n",
              "        const charts = await google.colab.kernel.invokeFunction(\n",
              "            'suggestCharts', [key], {});\n",
              "      }\n",
              "    </script>\n",
              "\n",
              "      <script>\n",
              "\n",
              "function displayQuickchartButton(domScope) {\n",
              "  let quickchartButtonEl =\n",
              "    domScope.querySelector('#df-3962a33f-6083-4507-9067-c469760ecfc0 button.colab-df-quickchart');\n",
              "  quickchartButtonEl.style.display =\n",
              "    google.colab.kernel.accessAllowed ? 'block' : 'none';\n",
              "}\n",
              "\n",
              "        displayQuickchartButton(document);\n",
              "      </script>\n",
              "      <style>\n",
              "    .colab-df-container {\n",
              "      display:flex;\n",
              "      flex-wrap:wrap;\n",
              "      gap: 12px;\n",
              "    }\n",
              "\n",
              "    .colab-df-convert {\n",
              "      background-color: #E8F0FE;\n",
              "      border: none;\n",
              "      border-radius: 50%;\n",
              "      cursor: pointer;\n",
              "      display: none;\n",
              "      fill: #1967D2;\n",
              "      height: 32px;\n",
              "      padding: 0 0 0 0;\n",
              "      width: 32px;\n",
              "    }\n",
              "\n",
              "    .colab-df-convert:hover {\n",
              "      background-color: #E2EBFA;\n",
              "      box-shadow: 0px 1px 2px rgba(60, 64, 67, 0.3), 0px 1px 3px 1px rgba(60, 64, 67, 0.15);\n",
              "      fill: #174EA6;\n",
              "    }\n",
              "\n",
              "    [theme=dark] .colab-df-convert {\n",
              "      background-color: #3B4455;\n",
              "      fill: #D2E3FC;\n",
              "    }\n",
              "\n",
              "    [theme=dark] .colab-df-convert:hover {\n",
              "      background-color: #434B5C;\n",
              "      box-shadow: 0px 1px 3px 1px rgba(0, 0, 0, 0.15);\n",
              "      filter: drop-shadow(0px 1px 2px rgba(0, 0, 0, 0.3));\n",
              "      fill: #FFFFFF;\n",
              "    }\n",
              "  </style>\n",
              "\n",
              "      <script>\n",
              "        const buttonEl =\n",
              "          document.querySelector('#df-4426027b-4408-44ce-ae1d-27ca6f3ed74a button.colab-df-convert');\n",
              "        buttonEl.style.display =\n",
              "          google.colab.kernel.accessAllowed ? 'block' : 'none';\n",
              "\n",
              "        async function convertToInteractive(key) {\n",
              "          const element = document.querySelector('#df-4426027b-4408-44ce-ae1d-27ca6f3ed74a');\n",
              "          const dataTable =\n",
              "            await google.colab.kernel.invokeFunction('convertToInteractive',\n",
              "                                                     [key], {});\n",
              "          if (!dataTable) return;\n",
              "\n",
              "          const docLinkHtml = 'Like what you see? Visit the ' +\n",
              "            '<a target=\"_blank\" href=https://colab.research.google.com/notebooks/data_table.ipynb>data table notebook</a>'\n",
              "            + ' to learn more about interactive tables.';\n",
              "          element.innerHTML = '';\n",
              "          dataTable['output_type'] = 'display_data';\n",
              "          await google.colab.output.renderOutput(dataTable, element);\n",
              "          const docLink = document.createElement('div');\n",
              "          docLink.innerHTML = docLinkHtml;\n",
              "          element.appendChild(docLink);\n",
              "        }\n",
              "      </script>\n",
              "    </div>\n",
              "  </div>\n"
            ]
          },
          "metadata": {},
          "execution_count": 2
        }
      ]
    },
    {
      "cell_type": "markdown",
      "source": [
        "Preprocessing/Scaling: Since our columns are on different scale it is important to perform scaling on them"
      ],
      "metadata": {
        "id": "C4AwkKmcJD7j"
      }
    },
    {
      "cell_type": "code",
      "source": [
        "from sklearn import preprocessing\n",
        "sx = preprocessing.MinMaxScaler()\n",
        "sy = preprocessing.MinMaxScaler()\n",
        "\n",
        "scaled_X = sx.fit_transform(df.drop('price',axis='columns'))\n",
        "scaled_y = sy.fit_transform(df['price'].values.reshape(df.shape[0],1))\n",
        "\n",
        "scaled_X"
      ],
      "metadata": {
        "colab": {
          "base_uri": "https://localhost:8080/"
        },
        "id": "mAU7u-qMI_x_",
        "outputId": "84439a69-ec46-4828-f03a-44bab4d23cd7"
      },
      "execution_count": null,
      "outputs": [
        {
          "output_type": "execute_result",
          "data": {
            "text/plain": [
              "array([[0.08827586, 0.25      ],\n",
              "       [0.62068966, 0.75      ],\n",
              "       [0.22068966, 0.5       ],\n",
              "       [0.24862069, 0.5       ],\n",
              "       [0.13793103, 0.25      ],\n",
              "       [0.12758621, 0.25      ],\n",
              "       [0.6662069 , 0.75      ],\n",
              "       [0.86206897, 0.75      ],\n",
              "       [0.17586207, 0.5       ],\n",
              "       [1.        , 1.        ],\n",
              "       [0.34482759, 0.5       ],\n",
              "       [0.68448276, 0.75      ],\n",
              "       [0.06896552, 0.25      ],\n",
              "       [0.10344828, 0.25      ],\n",
              "       [0.5       , 0.5       ],\n",
              "       [0.12931034, 0.25      ],\n",
              "       [0.13103448, 0.5       ],\n",
              "       [0.25517241, 0.5       ],\n",
              "       [0.67931034, 0.5       ],\n",
              "       [0.        , 0.        ]])"
            ]
          },
          "metadata": {},
          "execution_count": 9
        }
      ]
    },
    {
      "cell_type": "code",
      "source": [
        "scaled_y"
      ],
      "metadata": {
        "colab": {
          "base_uri": "https://localhost:8080/"
        },
        "id": "O57ty81WKjxp",
        "outputId": "f9fbe329-13a7-4eed-c1ad-229f9a57f46e"
      },
      "execution_count": null,
      "outputs": [
        {
          "output_type": "execute_result",
          "data": {
            "text/plain": [
              "array([[0.05237037],\n",
              "       [0.65185185],\n",
              "       [0.22222222],\n",
              "       [0.31851852],\n",
              "       [0.14074074],\n",
              "       [0.04444444],\n",
              "       [0.76296296],\n",
              "       [0.91111111],\n",
              "       [0.13333333],\n",
              "       [1.        ],\n",
              "       [0.37037037],\n",
              "       [0.8       ],\n",
              "       [0.04444444],\n",
              "       [0.05925926],\n",
              "       [0.51111111],\n",
              "       [0.07407407],\n",
              "       [0.11851852],\n",
              "       [0.20740741],\n",
              "       [0.51851852],\n",
              "       [0.        ]])"
            ]
          },
          "metadata": {},
          "execution_count": 10
        }
      ]
    },
    {
      "cell_type": "markdown",
      "source": [
        "We should convert target column (i.e. price) into one dimensional array. It has become 2D due to scaling that we did above but now we should change to 1D"
      ],
      "metadata": {
        "id": "DnCJgCkqLQry"
      }
    },
    {
      "cell_type": "code",
      "source": [
        "scaled_y.reshape(20,)\n"
      ],
      "metadata": {
        "colab": {
          "base_uri": "https://localhost:8080/"
        },
        "id": "fcBc63TkKmUT",
        "outputId": "c53f2633-f8c2-445e-f2cc-721f585f044e"
      },
      "execution_count": null,
      "outputs": [
        {
          "output_type": "execute_result",
          "data": {
            "text/plain": [
              "array([0.05237037, 0.65185185, 0.22222222, 0.31851852, 0.14074074,\n",
              "       0.04444444, 0.76296296, 0.91111111, 0.13333333, 1.        ,\n",
              "       0.37037037, 0.8       , 0.04444444, 0.05925926, 0.51111111,\n",
              "       0.07407407, 0.11851852, 0.20740741, 0.51851852, 0.        ])"
            ]
          },
          "metadata": {},
          "execution_count": 11
        }
      ]
    },
    {
      "cell_type": "markdown",
      "source": [
        "Gradient descent allows you to find weights (w1,w2,w3) and bias in following linear equation for housing price prediction\n",
        "\n",
        "![image.png](data:image/png;base64,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)"
      ],
      "metadata": {
        "id": "sy74tkspLrV-"
      }
    },
    {
      "cell_type": "code",
      "source": [
        "w=np.ones(shape=2)"
      ],
      "metadata": {
        "colab": {
          "base_uri": "https://localhost:8080/"
        },
        "id": "H3HbJZUhQ03f",
        "outputId": "7f684809-305e-48ba-96c1-d75fecd032a9"
      },
      "execution_count": null,
      "outputs": [
        {
          "output_type": "execute_result",
          "data": {
            "text/plain": [
              "array([1., 1.])"
            ]
          },
          "metadata": {},
          "execution_count": 27
        }
      ]
    },
    {
      "cell_type": "code",
      "source": [
        "scaled_X.T"
      ],
      "metadata": {
        "colab": {
          "base_uri": "https://localhost:8080/"
        },
        "id": "6xOblM0kSXzn",
        "outputId": "0760b68c-1066-4b39-ab1d-ca2fc62f1068"
      },
      "execution_count": null,
      "outputs": [
        {
          "output_type": "execute_result",
          "data": {
            "text/plain": [
              "array([[0.08827586, 0.62068966, 0.22068966, 0.24862069, 0.13793103,\n",
              "        0.12758621, 0.6662069 , 0.86206897, 0.17586207, 1.        ,\n",
              "        0.34482759, 0.68448276, 0.06896552, 0.10344828, 0.5       ,\n",
              "        0.12931034, 0.13103448, 0.25517241, 0.67931034, 0.        ],\n",
              "       [0.25      , 0.75      , 0.5       , 0.5       , 0.25      ,\n",
              "        0.25      , 0.75      , 0.75      , 0.5       , 1.        ,\n",
              "        0.5       , 0.75      , 0.25      , 0.25      , 0.5       ,\n",
              "        0.25      , 0.5       , 0.5       , 0.5       , 0.        ]])"
            ]
          },
          "metadata": {},
          "execution_count": 28
        }
      ]
    },
    {
      "cell_type": "code",
      "source": [
        "np.dot(w,scaled_X.T)"
      ],
      "metadata": {
        "colab": {
          "base_uri": "https://localhost:8080/"
        },
        "id": "dntj8-ZzShoT",
        "outputId": "ac47d13a-2115-4764-b4b9-6199fca72238"
      },
      "execution_count": null,
      "outputs": [
        {
          "output_type": "execute_result",
          "data": {
            "text/plain": [
              "array([0.23106335, 0.9448289 , 0.49333773, 0.51308845, 0.26617575,\n",
              "       0.25886067, 0.97701526, 1.11551416, 0.46163904, 1.38168991,\n",
              "       0.58111872, 0.98993858, 0.21740853, 0.24179214, 0.69084495,\n",
              "       0.26007985, 0.42994035, 0.51772134, 0.81763972, 0.        ])"
            ]
          },
          "metadata": {},
          "execution_count": 29
        }
      ]
    },
    {
      "cell_type": "code",
      "source": [
        "def batch_gradient_descent(X, y_true, epochs, learning_rate = 0.01):\n",
        "\n",
        "    number_of_features = X.shape[1]\n",
        "    # numpy array with 1 row and columns equal to number of features. In\n",
        "    # our case number_of_features = 2 (area, bedroom)\n",
        "    w = np.ones(shape=(number_of_features))\n",
        "    b = 0\n",
        "    total_samples = X.shape[0] # number of rows in X\n",
        "\n",
        "    cost_list = []\n",
        "    epoch_list = []\n",
        "\n",
        "    for i in range(epochs):\n",
        "        y_predicted = np.dot(w, X.T) + b\n",
        "        #Partial Derivative equation\n",
        "        w_grad = -(2/total_samples)*(X.T.dot(y_true-y_predicted))\n",
        "        b_grad = -(2/total_samples)*np.sum(y_true-y_predicted)\n",
        "\n",
        "        w = w - learning_rate * w_grad\n",
        "        b = b - learning_rate * b_grad\n",
        "\n",
        "        cost = np.mean(np.square(y_true-y_predicted)) # MSE (Mean Squared Error)\n",
        "\n",
        "        if i%10==0: #To record cost_list and epoch list at 10th iteration, 20th iteration, 30th iteration etc...\n",
        "            cost_list.append(cost)\n",
        "            epoch_list.append(i)\n",
        "\n",
        "    return w, b, cost, cost_list, epoch_list\n",
        "\n",
        "w, b, cost, cost_list, epoch_list = batch_gradient_descent(scaled_X,scaled_y.reshape(scaled_y.shape[0],),500)\n",
        "w, b, cost"
      ],
      "metadata": {
        "colab": {
          "base_uri": "https://localhost:8080/"
        },
        "id": "a_0P6nEdLfVk",
        "outputId": "12760233-3ff7-4f8b-d186-5bbf59654af3"
      },
      "execution_count": null,
      "outputs": [
        {
          "output_type": "execute_result",
          "data": {
            "text/plain": [
              "(array([0.70712464, 0.67456527]), -0.23034857438407427, 0.0068641890429808105)"
            ]
          },
          "metadata": {},
          "execution_count": 12
        }
      ]
    },
    {
      "cell_type": "markdown",
      "source": [
        "Check price equation above. In that equation we were trying to find values of w1,w2 and bias. Here we got these values for each of them,\n",
        "w1 = 0.66469087 w2 = 0.60541671 bias = -0.17792104056392882\n",
        "\n",
        "Now plot epoch vs cost graph to see how cost reduces as number of epoch increases"
      ],
      "metadata": {
        "id": "Hewfuu-TNHMG"
      }
    },
    {
      "cell_type": "code",
      "source": [
        "plt.xlabel(\"epoch\")\n",
        "plt.ylabel(\"cost\")\n",
        "plt.plot(epoch_list,cost_list)"
      ],
      "metadata": {
        "colab": {
          "base_uri": "https://localhost:8080/",
          "height": 466
        },
        "id": "Hx-fMi16NFRj",
        "outputId": "5d89afc7-4e61-4bd0-c9ee-84e04e076067"
      },
      "execution_count": null,
      "outputs": [
        {
          "output_type": "execute_result",
          "data": {
            "text/plain": [
              "[<matplotlib.lines.Line2D at 0x7d325ae89db0>]"
            ]
          },
          "metadata": {},
          "execution_count": 13
        },
        {
          "output_type": "display_data",
          "data": {
            "text/plain": [
              "<Figure size 640x480 with 1 Axes>"
            ],
            "image/png": "[encoded data removed]"
          },
          "metadata": {}
        }
      ]
    },
    {
      "cell_type": "code",
      "source": [
        "def predict(area,bedrooms,w,b):\n",
        "    scaled_X = sx.transform([[area, bedrooms]])[0]\n",
        "    # here w1 = w[0] , w2 = w[1], w3 = w[2] and bias is b\n",
        "    # equation for price is w1*area + w2*bedrooms+ bias\n",
        "    # scaled_X[0] is area\n",
        "    # scaled_X[1] is bedrooms\n",
        "    scaled_price = w[0] * scaled_X[0] + w[1] * scaled_X[1] + b\n",
        "    # once we get price prediction we need to to rescal it back to original value\n",
        "    # also since it returns 2D array, to get single value we need to do value[0][0]\n",
        "    return sy.inverse_transform([[scaled_price]])[0][0]\n",
        "\n",
        "predict(2600,4,w,b)"
      ],
      "metadata": {
        "colab": {
          "base_uri": "https://localhost:8080/"
        },
        "id": "ddux0fdXNm3C",
        "outputId": "df95a7b1-86e5-4afe-d9ca-d497b1a693cc"
      },
      "execution_count": null,
      "outputs": [
        {
          "output_type": "stream",
          "name": "stderr",
          "text": [
            "/usr/local/lib/python3.10/dist-packages/sklearn/base.py:439: UserWarning: X does not have valid feature names, but MinMaxScaler was fitted with feature names\n",
            "  warnings.warn(\n"
          ]
        },
        {
          "output_type": "execute_result",
          "data": {
            "text/plain": [
              "128.45484403267596"
            ]
          },
          "metadata": {},
          "execution_count": 16
        }
      ]
    },
    {
      "cell_type": "code",
      "source": [
        "predict(1000,2,w,b)\n"
      ],
      "metadata": {
        "colab": {
          "base_uri": "https://localhost:8080/"
        },
        "id": "71FdiItlN_n1",
        "outputId": "ba87c0d7-0a90-4711-db88-40e1f99b7d63"
      },
      "execution_count": null,
      "outputs": [
        {
          "output_type": "stream",
          "name": "stderr",
          "text": [
            "/usr/local/lib/python3.10/dist-packages/sklearn/base.py:439: UserWarning: X does not have valid feature names, but MinMaxScaler was fitted with feature names\n",
            "  warnings.warn(\n"
          ]
        },
        {
          "output_type": "execute_result",
          "data": {
            "text/plain": [
              "30.253094462442355"
            ]
          },
          "metadata": {},
          "execution_count": 17
        }
      ]
    },
    {
      "cell_type": "code",
      "source": [
        "predict(1500,3,w,b)\n"
      ],
      "metadata": {
        "colab": {
          "base_uri": "https://localhost:8080/"
        },
        "id": "e4PBPpj6OEWF",
        "outputId": "807ebb9c-8144-4305-b1e9-abdb70992faa"
      },
      "execution_count": null,
      "outputs": [
        {
          "output_type": "stream",
          "name": "stderr",
          "text": [
            "/usr/local/lib/python3.10/dist-packages/sklearn/base.py:439: UserWarning: X does not have valid feature names, but MinMaxScaler was fitted with feature names\n",
            "  warnings.warn(\n"
          ]
        },
        {
          "output_type": "execute_result",
          "data": {
            "text/plain": [
              "69.47860785714694"
            ]
          },
          "metadata": {},
          "execution_count": 18
        }
      ]
    },
    {
      "cell_type": "markdown",
      "source": [
        "(2) Stochastic Gradient Descent Implementation\n",
        "\n",
        "Stochastic GD will use randomly picked single training sample to calculate error and using this error we backpropage to adjust weights"
      ],
      "metadata": {
        "id": "hCPpiOyHOOPd"
      }
    },
    {
      "cell_type": "code",
      "source": [
        "# we will use random libary to pick random training sample.\n",
        "import random\n",
        "random.randint(0,6) # randit gives random number between two numbers specified in the argument"
      ],
      "metadata": {
        "colab": {
          "base_uri": "https://localhost:8080/"
        },
        "id": "SvmIeFT6OREB",
        "outputId": "da43ebef-776c-49f4-bdff-edf90cb949bc"
      },
      "execution_count": null,
      "outputs": [
        {
          "output_type": "execute_result",
          "data": {
            "text/plain": [
              "4"
            ]
          },
          "metadata": {},
          "execution_count": 19
        }
      ]
    },
    {
      "cell_type": "code",
      "source": [
        "def SGD(X, y_true, epochs, learning_rate = 0.01):\n",
        "\n",
        "    number_of_features = X.shape[1]\n",
        "    # numpy array with 1 row and columns equal to number of features. In\n",
        "    # our case number_of_features = 3 (area, bedroom and age)\n",
        "    w = np.ones(shape=(number_of_features))\n",
        "    b = 0\n",
        "    total_samples = X.shape[0]\n",
        "\n",
        "    cost_list = []\n",
        "    epoch_list = []\n",
        "\n",
        "    for i in range(epochs):\n",
        "        random_index = random.randint(0,total_samples-1) # random index from total samples\n",
        "        sample_x = X[random_index]\n",
        "        sample_y = y_true[random_index]\n",
        "\n",
        "        y_predicted = np.dot(w, sample_x.T) + b\n",
        "\n",
        "        w_grad = -(2/total_samples)*(sample_x.T.dot(sample_y-y_predicted))\n",
        "        b_grad = -(2/total_samples)*(sample_y-y_predicted)\n",
        "\n",
        "        w = w - learning_rate * w_grad\n",
        "        b = b - learning_rate * b_grad\n",
        "\n",
        "        cost = np.square(sample_y-y_predicted)\n",
        "\n",
        "        if i%100==0: # at every 100th iteration record the cost and epoch value\n",
        "            cost_list.append(cost)\n",
        "            epoch_list.append(i)\n",
        "\n",
        "    return w, b, cost, cost_list, epoch_list\n",
        "\n",
        "w_sgd, b_sgd, cost_sgd, cost_list_sgd, epoch_list_sgd = SGD(scaled_X,scaled_y.reshape(scaled_y.shape[0],),10000)\n",
        "w_sgd, b_sgd, cost_sgd"
      ],
      "metadata": {
        "colab": {
          "base_uri": "https://localhost:8080/"
        },
        "id": "HOiZd_UOOxwX",
        "outputId": "af890290-eca5-496d-e44b-feb56467ac0d"
      },
      "execution_count": null,
      "outputs": [
        {
          "output_type": "execute_result",
          "data": {
            "text/plain": [
              "(array([0.70876455, 0.67717412]), -0.22964727565970125, 0.010076110883362471)"
            ]
          },
          "metadata": {},
          "execution_count": 21
        }
      ]
    },
    {
      "cell_type": "markdown",
      "source": [
        "Compare this with weights and bias that we got using gradient descent. They both of quite similar.\n",
        "\n"
      ],
      "metadata": {
        "id": "TnibBkakPSxV"
      }
    },
    {
      "cell_type": "code",
      "source": [
        "w , b\n"
      ],
      "metadata": {
        "colab": {
          "base_uri": "https://localhost:8080/"
        },
        "id": "KJBmclggPTuq",
        "outputId": "ed368e9f-77b2-492e-c16e-dc1b8b7a0c85"
      },
      "execution_count": null,
      "outputs": [
        {
          "output_type": "execute_result",
          "data": {
            "text/plain": [
              "(array([0.70712464, 0.67456527]), -0.23034857438407427)"
            ]
          },
          "metadata": {},
          "execution_count": 22
        }
      ]
    },
    {
      "cell_type": "code",
      "source": [
        "plt.xlabel(\"epoch\")\n",
        "plt.ylabel(\"cost\")\n",
        "plt.plot(epoch_list_sgd,cost_list_sgd)"
      ],
      "metadata": {
        "colab": {
          "base_uri": "https://localhost:8080/",
          "height": 466
        },
        "id": "8nut68mRPZto",
        "outputId": "612c0b26-7c7a-487a-8b3b-7161293416aa"
      },
      "execution_count": null,
      "outputs": [
        {
          "output_type": "execute_result",
          "data": {
            "text/plain": [
              "[<matplotlib.lines.Line2D at 0x7d3254de8910>]"
            ]
          },
          "metadata": {},
          "execution_count": 23
        },
        {
          "output_type": "display_data",
          "data": {
            "text/plain": [
              "<Figure size 640x480 with 1 Axes>"
            ],
            "image/png": "[encoded data removed]"
          },
          "metadata": {}
        }
      ]
    },
    {
      "cell_type": "code",
      "source": [
        "predict(2600,4,w_sgd, b_sgd)\n"
      ],
      "metadata": {
        "colab": {
          "base_uri": "https://localhost:8080/"
        },
        "id": "EawFH2dFPpUc",
        "outputId": "78e613d3-ec51-4909-c7b7-e85bc28a740a"
      },
      "execution_count": null,
      "outputs": [
        {
          "output_type": "stream",
          "name": "stderr",
          "text": [
            "/usr/local/lib/python3.10/dist-packages/sklearn/base.py:439: UserWarning: X does not have valid feature names, but MinMaxScaler was fitted with feature names\n",
            "  warnings.warn(\n"
          ]
        },
        {
          "output_type": "execute_result",
          "data": {
            "text/plain": [
              "128.9510792639653"
            ]
          },
          "metadata": {},
          "execution_count": 24
        }
      ]
    },
    {
      "cell_type": "code",
      "source": [
        "predict(1000,2,w_sgd, b_sgd)\n"
      ],
      "metadata": {
        "colab": {
          "base_uri": "https://localhost:8080/"
        },
        "id": "KrwbqRWxPxYM",
        "outputId": "8355da0d-4db8-41fd-8fc0-b7e7a45c3724"
      },
      "execution_count": null,
      "outputs": [
        {
          "output_type": "stream",
          "name": "stderr",
          "text": [
            "/usr/local/lib/python3.10/dist-packages/sklearn/base.py:439: UserWarning: X does not have valid feature names, but MinMaxScaler was fitted with feature names\n",
            "  warnings.warn(\n"
          ]
        },
        {
          "output_type": "execute_result",
          "data": {
            "text/plain": [
              "30.45108687016356"
            ]
          },
          "metadata": {},
          "execution_count": 25
        }
      ]
    },
    {
      "cell_type": "code",
      "source": [
        "predict(1500,3,w_sgd, b_sgd)\n"
      ],
      "metadata": {
        "colab": {
          "base_uri": "https://localhost:8080/"
        },
        "id": "rywXfBsoP0ht",
        "outputId": "6be540af-05d8-4673-da09-180322838cef"
      },
      "execution_count": null,
      "outputs": [
        {
          "output_type": "stream",
          "name": "stderr",
          "text": [
            "/usr/local/lib/python3.10/dist-packages/sklearn/base.py:439: UserWarning: X does not have valid feature names, but MinMaxScaler was fitted with feature names\n",
            "  warnings.warn(\n"
          ]
        },
        {
          "output_type": "execute_result",
          "data": {
            "text/plain": [
              "69.80281951072561"
            ]
          },
          "metadata": {},
          "execution_count": 26
        }
      ]
    }
  ]
}